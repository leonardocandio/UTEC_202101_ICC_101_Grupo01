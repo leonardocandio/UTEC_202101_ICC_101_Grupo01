{
 "cells": [
  {
   "cell_type": "code",
   "metadata": {
    "tags": [],
    "cell_id": "00000-a2cd9c62-cffc-4dd6-a1c6-1dfeeb9a6e31",
    "deepnote_to_be_reexecuted": false,
    "source_hash": "fe0aeaa1",
    "execution_start": 1624502779856,
    "execution_millis": 8,
    "deepnote_cell_type": "code"
   },
   "source": [
    "from graphviz import Graph"
   ],
   "outputs": [],
   "execution_count": 3
  },
  {
   "cell_type": "code",
   "execution_count": null,
   "metadata": {},
   "outputs": [],
   "source": [
    "n = int(input(\"Ingrese cantidad de países: \"))\n",
    "lista_paises = []\n",
    "lista_vecinos = []\n",
    "vecinos_locales = []\n",
    "for i in range(n):\n",
    "    name = input(\"Ingrese el nombre de cada país: \")\n",
    "    lista_paises.append(name)\n",
    "\n",
    "vecino = \"_\"\n",
    "\n",
    "for j in lista_paises:\n",
    "    print(\"Ingrese los vecinos de \" + \"\\033[92m\" + j + \"\\033[0m\")\n",
    "    print(\n",
    "        \"\\033[91m\"\n",
    "        + \"Para pasar al siguente país introduzca una entrada vacía\"\n",
    "        + \"\\033[0m\"\n",
    "    )\n",
    "    while vecino != \"\":\n",
    "        vecino = input()\n",
    "        if len(vecino) > 0:\n",
    "            vecinos_locales.append(vecino)\n",
    "        else:\n",
    "            lista_vecinos.append(vecinos_locales)\n",
    "            vecinos_locales = []\n",
    "    vecino = \"_\"\n",
    "\n",
    "d = dict(zip(lista_paises, lista_vecinos))\n",
    "\n",
    "origen = input(\"Ingrese el origen: \")\n",
    "destino = input(\"Ingrese el destino: \")\n",
    "g = Graph(strict=True)\n",
    "\n",
    "match = False\n",
    "camino = [origen,destino]\n",
    "\n",
    "for z in range(n):\n",
    "    vecinos_compartidos = list(set(d[origen]).intersection(d[destino]))\n",
    "    if destino in d[origen]:\n",
    "        match = True\n",
    "        break\n",
    "    elif len(vecinos_compartidos) > 0:\n",
    "        for l in vecinos_compartidos:\n",
    "            camino.insert(-1-z,l)\n",
    "            break\n",
    "        match = True\n",
    "        break\n",
    "    else:\n",
    "        for k in d[origen]:\n",
    "            camino.insert(1+z,k)\n",
    "            origen = k\n",
    "            break\n",
    "        for m in d[destino]:\n",
    "            camino.insert(-1-z,m)\n",
    "            destino = m\n",
    "        \n",
    "print(camino)\n",
    "visitas = len(camino)\n",
    "print(f'El paquete estará en {visitas} países')\n",
    "\n",
    "\n",
    "for _ in range(len(camino)-1):\n",
    "    g.edge(camino[0+_],camino[1+_], color='red')\n",
    "\n",
    "for pais in d:\n",
    "    for v_g in d[pais]:\n",
    "        g.edge(pais, v_g)\n",
    "\n",
    "g"
   ]
  }
 ],
 "nbformat": 4,
 "nbformat_minor": 2,
 "metadata": {
  "orig_nbformat": 2,
  "deepnote": {
   "is_reactive": false
  },
  "deepnote_notebook_id": "4f52ddc3-6624-478c-8ddc-828fc235c078",
  "deepnote_execution_queue": [],
  "kernelspec": {
   "name": "python3",
   "display_name": "Python 3.9.5 64-bit"
  },
  "interpreter": {
   "hash": "760892ce3164b76c03b317fa412cee1719926f6318c2a0c9ea286a3f84560ff2"
  }
 }
}